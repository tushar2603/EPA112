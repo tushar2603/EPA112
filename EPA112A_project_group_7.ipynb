{
 "cells": [
  {
   "cell_type": "markdown",
   "id": "b19c2f3a",
   "metadata": {},
   "source": [
    "# Social inequality and malnutrition in Asia\n",
    "An analysis of the relation between social inequality and malnutrition in Asia. \n",
    "\n",
    "Authors: \n",
    "<br /> Vilohit (<span style=\"color:red\">last name, studentnumber</span>) \n",
    "<br /> Tushar (<span style=\"color: red\">last name, studentnumber</span>) \n",
    "<br /> Pedram Pishahang (5357284)\n",
    "\n",
    "This document was created for the subject EPA112A (Programming for Data Science) by <b> Group 7</b>. \n"
   ]
  },
  {
   "cell_type": "raw",
   "id": "a0299eb1",
   "metadata": {},
   "source": [
    "(REMOVE THIS SECTION LATER)\n",
    "\n",
    "Grading: \n",
    "KILLER CRITERIA:\n",
    "- deliverable: zip archive that contains notebook + used data \n",
    "- notebook must include title, names, student numbers and group number\n",
    "- main file and zip archive should be called: EPA112A_project_group_groupNumber\n",
    "- notebook should not generate errors\n",
    "- text should be readable\n",
    "- code should be readable:\n",
    "-- sensible variable names\n",
    "-- break up code into parts, use (fruitful) functions\n",
    "-- use pep8 style\n",
    "-- document code using comments\n",
    "- use atleast one additional data alongside World Bank data\n",
    "- use multiple types of visualizations\n",
    "- use atleast one machine learning technique\n",
    "\n",
    "GENERAL GRADING CRITERIA:\n",
    "- Use data analysis in Python to answer your research questions. Your code should read, clean and format, process and visualize the data. There should be at least some non-trivial processing involved.\n",
    "- Demonstrate your skills in Python by using typical Python constructs and using the appropriate data structures\n",
    "- Try to think of reusability of your code. How easy would it be to use your same code if we want to try to do a small variations of your analysis? Can we easily adapt/play around with your code?\n",
    "- How difficult were your analyses?\n"
   ]
  },
  {
   "cell_type": "markdown",
   "id": "33c2e364",
   "metadata": {},
   "source": [
    "## Introduction\n",
    "<span style=\"color:blue\"> Assignment: include a problem statement and your research question(s). You can pick one SDG as a starting point (frame) for your problem </span>\n",
    "\n",
    "In this assignment, an original and non-trivial data analysis will be made of the relation between social inequality and malnutrition in Asia. \n",
    "\n",
    "### Chosen Sustainable Development Goals (SDG's)\n",
    "This analysis focuses on SDG 2 (\"End hunger, achieve food security and improve nutrition and promote sustainable agriculture\") and SDG 10 (\"Reduce inequality within and among countries\"). [1][2]\n",
    "\n",
    "### Problem statement and research questions\n",
    "While there has been some progress towards reaching global nutrition goals, almost nine percent of the population in Asia was malnourished in 2022. This region also accounts for half of the world's undernourished people, and there are more severely food insecure individuals in Southern Asia than any other subregions in the world. [3] At the same time, Asia can be characterised as a region with high levels of income inequality, especially in South Asia and East Asia. It is known that high income inequality can have significant negative effects on many different factors. [4] In this analysis, we will specifically focus on the effect of income inequality on undernourishment in Asia. In order to analyse this, the following <b>general research question</b> has been formulated: \n",
    "\n",
    "<br />\n",
    "<i>What is the relation between economic and social inequality and undernourishment in Asian countries, and can we predict the rate of undernourishment in Asian countries in the coming 20 years based on economic and social inequality? </i>\n",
    "<br />\n",
    "\n",
    "<br /> \n",
    "In order to quantify and eventually answer the general research question, the following <b>specific research questions</b> have been formulated:\n",
    "\n",
    "1. <i> What are the trends in income inequality in Asian countries in the period of 2000-2020? Will income inequality rise in the next 20 years based on this trend? </i>\n",
    "2. <i> What are the trends in undernourishment in Asian countries in the period of 2000-2020? Will undernourishment rise in the next 20 years based on this trend? </i>\n",
    "3. <i> How will undernourishment change based on the income inequality in Asian countries in the next 20 years? </i>\n",
    "4. <i> Do gender equality, education attainment and literacy rates have an influence on the undernourishment in Asian countries? </i>\n",
    "\n",
    "\n",
    "<br />\n",
    "For clarity, <b> Asia </b> is defined as the following regions and countries with the World Bank Databank [5] and World Inequality Dataset [9] country codes:\n",
    "<br />\n",
    "\n",
    "* <b> Central Asia: </b> Kazachstan; Kyrgyzstan; Tajikistan; Turkmenistan; Uzbekistan;\n",
    "    * World Bank codes: KAZ, KGZ, TJK, TKM, UZB\n",
    "    * World Inequality Dataset codes: KZ, KG, TJ, TM, UZ\n",
    "* <b> Eastern Asia: </b> China; China, Hong Kong Special Administrative Region; China, Macao Special Administrative Region; Democratic People's Republic of Korea; Japan; Mongolia; Republic of Korea\n",
    "    * World Bank codes: CHN, HKG, MAC, PRK, JPN, MNG, KOR\n",
    "    * World Inequality Dataset codes: CN, HK, MO, KP, JP, MN, KR\n",
    "* <b> South-Eastern Asia: </b>  Brunei Darussalam; Cambodia; Indonesia; Lao People's Democratic Republic; Malaysia; Myanmar; Philippines; Singapore; Thailand; Timor-Leste; Viet Nam\n",
    "    * World Bank codes: BRN, KHM, IDN, LAO, MYS, MMR, PHL, SGP, THA, TLS, VNM\n",
    "    * World Inequality Dataset codes: BN, KH, ID, LA, MY, MM, PH, SG, TH, TL, VN\n",
    "* <b> Southern Asia: </b>  Afghanistan; Bangladesh; Bhutan; India; Iran (Islamic Republic of); Maldives; Nepal; Pakistan; Sri Lanka\n",
    "    * World Bank codes: AFG, BGD, BTN, IND, IRN, MDV, NPL, PAK, LKA\n",
    "    * World Inequality Dataset codes: AF, BD, BT, IN, IR, MV, NP, PK, LK\n",
    "* <b> Western Asia: </b>  Armenia; Azerbaijan; Bahrain; Cyprus; Georgia; Iraq; Israel; Jordan; Kuwait; Lebanon; Oman; Qatar; Saudi Arabia; State of Palestine; Syrian Arab Republic; Türkiye; United Arab Emirates; Yemen\n",
    "    * World Bank codes: ARM, AZE, BHR, CYP, GEO, IRQ, ISR, JOR, KWT, LBN, OMN, QAT, SAU, PSE, SYR, TUR, ARE, YEM\n",
    "    * World Inequality Dataset codes: AM, AZ, BH, CY, GE, IQ, IL, JO, KW, LB, OM, QA, SA, PS, SY, TR, AE, YE\n",
    "<br />\n",
    "\n",
    "In this analysis, we will look at the trends on a country level (so for each specific country in Asia). <b> if no data is available for a certain country, this will be mentioned. </b> \n",
    "\n",
    "<span style=\"color:red\"> ALSO ON A REGIONAL LEVEL OR ONLY ON COUNTRY SPECIFIC LEVEL? DECIDE LATER </span>\n"
   ]
  },
  {
   "cell_type": "markdown",
   "id": "b9df4758",
   "metadata": {},
   "source": [
    "### Importing libraries\n",
    "Here, we will start by importing all relevant libraries. \n",
    "\n",
    "<span style=\"color:red\"> REMOVE LIBRARIES THAT WERE NOT USED AT THE END </span>"
   ]
  },
  {
   "cell_type": "code",
   "execution_count": 20,
   "id": "f17bd9af",
   "metadata": {},
   "outputs": [],
   "source": [
    "import numpy as np\n",
    "import pandas as pd\n",
    "import math\n",
    "import matplotlib.pyplot as plt\n",
    "import seaborn as sb # later check if this is actually necessary\n",
    "import wbdata as wb # make sure you have wbdata installed! \n",
    "import datetime as dt # necessary for data import from wbdata\n",
    "\n",
    "\n",
    "# import specific modules from sklearn for machine learning"
   ]
  },
  {
   "cell_type": "markdown",
   "id": "91bf161b",
   "metadata": {},
   "source": [
    "## Datasets\n",
    "<span style=\"color:blue\"> Assignment: Present the data that you are going to use. Your data must come from at least two sources (one additional source aside from the World Bank data). </span>\n",
    "\n",
    "In order to perform an analysis for the specific research questions, we will be using the indicators below:\n",
    "- Prevalence of undernourishment (% of the population) \n",
    "    - from the World Bank Databank [7]\n",
    "    - This indicator measures food deprivation based on the average food available for human consumption per person, the level of inequality in access to food, and the minimum calories required for an average person.\n",
    "- Share of pre-tax national income by the top 10% (scale 0-1)\n",
    "    - from the World Inequality Database [8]\n",
    "- Share of the pre-tax national income by the bottom 50% (scale 0-1) \n",
    "    - from the World Inequality Database [8]\n",
    "- Literacy rate, adult total (% of people ages 15 and above)\n",
    "    - from the World Bank Databank [7]\n",
    "- Education attainment, at least completed lower secondary, population 25+, total (%)\n",
    "    - from the World Bank Databank [7]\n",
    "- Women Busineess and the Law Index Score (scale 1-100)\n",
    "    - from the World Bank Databank [7]\n",
    "    - This indicator measures the economic and legal equality between men and women, with 1 being the lowest score (= highest inequality for women compared to men) and 100 being the highest score (= perfect equality between women and men)\n",
    "    \n",
    "<br />\n",
    "Specifically, we will measure <b> income inequality </b> as the \"P50/P10 ratio\". This means that the income of the bottom 50% (50th percentile) is compared to the income of the top 10% (10th percentile). [6] This is calculated as follows:\n",
    "<br />\n",
    "\n",
    "- Income inequality = Share of pre-tax national income by the top 10% / Share of pre-tax national income by the bottom 50% "
   ]
  },
  {
   "cell_type": "markdown",
   "id": "3a448f93",
   "metadata": {},
   "source": [
    "## Preprocessing\n",
    "<span style=\"color:blue\"> Assignment: Explain how you clean, format and do any pre-processing work that you find useful, making the data useful for your goals. Implement the steps that you describe in python. </span>\n"
   ]
  },
  {
   "cell_type": "markdown",
   "id": "46a8c912",
   "metadata": {},
   "source": [
    "### Importing data\n",
    "Firstly, we import the data from the World Bank Databank [7] and World Inequality Database [8]:\n"
   ]
  },
  {
   "cell_type": "markdown",
   "id": "a3b9039e",
   "metadata": {},
   "source": [
    "#### World Bank Databank\n",
    "Let's import the relevant data from the World Bank Databank. We know that the SDG Databank is source 46, and the relevant indicators have the following codes:\n",
    "* Prevalence of undernourishment: SN.ITK.DEFC.ZS\n",
    "* Literacy rate, adult total: SE.ADT.LITR.ZS\n",
    "* Education rate, at least completed lower secondary 25+ total: SE.SEC.CUAT.LO.ZS\n",
    "* Women Business and the Law index score: SG.LAW.INDX"
   ]
  },
  {
   "cell_type": "code",
   "execution_count": 31,
   "id": "8b13c5a4",
   "metadata": {
    "scrolled": true
   },
   "outputs": [
    {
     "data": {
      "text/html": [
       "<div>\n",
       "<style scoped>\n",
       "    .dataframe tbody tr th:only-of-type {\n",
       "        vertical-align: middle;\n",
       "    }\n",
       "\n",
       "    .dataframe tbody tr th {\n",
       "        vertical-align: top;\n",
       "    }\n",
       "\n",
       "    .dataframe thead th {\n",
       "        text-align: right;\n",
       "    }\n",
       "</style>\n",
       "<table border=\"1\" class=\"dataframe\">\n",
       "  <thead>\n",
       "    <tr style=\"text-align: right;\">\n",
       "      <th></th>\n",
       "      <th></th>\n",
       "      <th>Prevalence of undernourishment (% of the population)</th>\n",
       "      <th>Literacy rate, adult total (% of people ages 15 and above)</th>\n",
       "      <th>Education attainment, at least completed lower secondary, population 25+, total (%)</th>\n",
       "      <th>Women Busineess and the Law Index Score (scale 1-100)</th>\n",
       "    </tr>\n",
       "    <tr>\n",
       "      <th>country</th>\n",
       "      <th>date</th>\n",
       "      <th></th>\n",
       "      <th></th>\n",
       "      <th></th>\n",
       "      <th></th>\n",
       "    </tr>\n",
       "  </thead>\n",
       "  <tbody>\n",
       "    <tr>\n",
       "      <th rowspan=\"5\" valign=\"top\">Afghanistan</th>\n",
       "      <th>2020</th>\n",
       "      <td>NaN</td>\n",
       "      <td>NaN</td>\n",
       "      <td>NaN</td>\n",
       "      <td>38.125</td>\n",
       "    </tr>\n",
       "    <tr>\n",
       "      <th>2019</th>\n",
       "      <td>25.6</td>\n",
       "      <td>NaN</td>\n",
       "      <td>NaN</td>\n",
       "      <td>38.125</td>\n",
       "    </tr>\n",
       "    <tr>\n",
       "      <th>2018</th>\n",
       "      <td>23.4</td>\n",
       "      <td>NaN</td>\n",
       "      <td>NaN</td>\n",
       "      <td>38.125</td>\n",
       "    </tr>\n",
       "    <tr>\n",
       "      <th>2017</th>\n",
       "      <td>23.0</td>\n",
       "      <td>NaN</td>\n",
       "      <td>NaN</td>\n",
       "      <td>38.125</td>\n",
       "    </tr>\n",
       "    <tr>\n",
       "      <th>2016</th>\n",
       "      <td>22.2</td>\n",
       "      <td>NaN</td>\n",
       "      <td>NaN</td>\n",
       "      <td>38.125</td>\n",
       "    </tr>\n",
       "    <tr>\n",
       "      <th>...</th>\n",
       "      <th>...</th>\n",
       "      <td>...</td>\n",
       "      <td>...</td>\n",
       "      <td>...</td>\n",
       "      <td>...</td>\n",
       "    </tr>\n",
       "    <tr>\n",
       "      <th rowspan=\"5\" valign=\"top\">Yemen, Rep.</th>\n",
       "      <th>2004</th>\n",
       "      <td>28.3</td>\n",
       "      <td>54.099998</td>\n",
       "      <td>NaN</td>\n",
       "      <td>23.750</td>\n",
       "    </tr>\n",
       "    <tr>\n",
       "      <th>2003</th>\n",
       "      <td>28.0</td>\n",
       "      <td>NaN</td>\n",
       "      <td>NaN</td>\n",
       "      <td>23.750</td>\n",
       "    </tr>\n",
       "    <tr>\n",
       "      <th>2002</th>\n",
       "      <td>27.6</td>\n",
       "      <td>NaN</td>\n",
       "      <td>NaN</td>\n",
       "      <td>23.750</td>\n",
       "    </tr>\n",
       "    <tr>\n",
       "      <th>2001</th>\n",
       "      <td>26.7</td>\n",
       "      <td>NaN</td>\n",
       "      <td>NaN</td>\n",
       "      <td>23.750</td>\n",
       "    </tr>\n",
       "    <tr>\n",
       "      <th>2000</th>\n",
       "      <td>NaN</td>\n",
       "      <td>NaN</td>\n",
       "      <td>NaN</td>\n",
       "      <td>23.750</td>\n",
       "    </tr>\n",
       "  </tbody>\n",
       "</table>\n",
       "<p>1050 rows × 4 columns</p>\n",
       "</div>"
      ],
      "text/plain": [
       "                  Prevalence of undernourishment (% of the population)  \\\n",
       "country     date                                                         \n",
       "Afghanistan 2020                                                NaN      \n",
       "            2019                                               25.6      \n",
       "            2018                                               23.4      \n",
       "            2017                                               23.0      \n",
       "            2016                                               22.2      \n",
       "...                                                             ...      \n",
       "Yemen, Rep. 2004                                               28.3      \n",
       "            2003                                               28.0      \n",
       "            2002                                               27.6      \n",
       "            2001                                               26.7      \n",
       "            2000                                                NaN      \n",
       "\n",
       "                  Literacy rate, adult total (% of people ages 15 and above)  \\\n",
       "country     date                                                               \n",
       "Afghanistan 2020                                                NaN            \n",
       "            2019                                                NaN            \n",
       "            2018                                                NaN            \n",
       "            2017                                                NaN            \n",
       "            2016                                                NaN            \n",
       "...                                                             ...            \n",
       "Yemen, Rep. 2004                                          54.099998            \n",
       "            2003                                                NaN            \n",
       "            2002                                                NaN            \n",
       "            2001                                                NaN            \n",
       "            2000                                                NaN            \n",
       "\n",
       "                  Education attainment, at least completed lower secondary, population 25+, total (%)  \\\n",
       "country     date                                                                                        \n",
       "Afghanistan 2020                                                NaN                                     \n",
       "            2019                                                NaN                                     \n",
       "            2018                                                NaN                                     \n",
       "            2017                                                NaN                                     \n",
       "            2016                                                NaN                                     \n",
       "...                                                             ...                                     \n",
       "Yemen, Rep. 2004                                                NaN                                     \n",
       "            2003                                                NaN                                     \n",
       "            2002                                                NaN                                     \n",
       "            2001                                                NaN                                     \n",
       "            2000                                                NaN                                     \n",
       "\n",
       "                  Women Busineess and the Law Index Score (scale 1-100)  \n",
       "country     date                                                         \n",
       "Afghanistan 2020                                             38.125      \n",
       "            2019                                             38.125      \n",
       "            2018                                             38.125      \n",
       "            2017                                             38.125      \n",
       "            2016                                             38.125      \n",
       "...                                                             ...      \n",
       "Yemen, Rep. 2004                                             23.750      \n",
       "            2003                                             23.750      \n",
       "            2002                                             23.750      \n",
       "            2001                                             23.750      \n",
       "            2000                                             23.750      \n",
       "\n",
       "[1050 rows x 4 columns]"
      ]
     },
     "execution_count": 31,
     "metadata": {},
     "output_type": "execute_result"
    }
   ],
   "source": [
    "# creating list of countries per region in Asia, in order to import the indicators for the right countries:\n",
    "wbCA = [\"KAZ\", \"KGZ\", \"TJK\", \"TKM\", \"UZB\"] # CA = Central Asia\n",
    "wbEA = [\"CHN\", \"HKG\", \"MAC\", \"PRK\", \"JPN\", \"MNG\", \"KOR\"] # EA = Eastern Asia\n",
    "wbSEA = [\"BRN\", \"KHM\", \"IDN\", \"LAO\", \"MYS\", \"MMR\", \"PHL\", \"SGP\", \"THA\", \"TLS\", \"VNM\"] # SEA = South-Eastern Asia\n",
    "wbSA = [\"AFG\", \"BGD\", \"BTN\", \"IND\", \"IRN\", \"MDV\", \"NPL\", \"PAK\", \"LKA\"] # SA = Southern Asia\n",
    "wbWA = [\"ARM\", \"AZE\", \"BHR\", \"CYP\", \"GEO\", \"IRQ\", \"ISR\", \"JOR\", \"KWT\", \"LBN\", \"OMN\", \n",
    "      \"QAT\", \"SAU\", \"PSE\", \"SYR\", \"TUR\", \"ARE\", \"YEM\"] # WA = Western Asia\n",
    "wbAsia = sorted(CA+EA+SEA+SA+WA) # also creating a list of Asia in order all countries need to be requested\n",
    "\n",
    "# dictionary of indicators and indicator names:\n",
    "sdg_indic = {\"SN.ITK.DEFC.ZS\": \"Prevalence of undernourishment (% of the population)\",\n",
    "             \"SE.ADT.LITR.ZS\": \"Literacy rate, adult total (% of people ages 15 and above)\",\n",
    "             \"SE.SEC.CUAT.LO.ZS\": \"Education attainment, at least completed lower secondary, population 25+, total (%)\",\n",
    "             \"SG.LAW.INDX\": \"Women Busineess and the Law Index Score (scale 1-100)\" }\n",
    "\n",
    "# defining start and end date for the data that we want (period of 2000-2020):\n",
    "start = dt.datetime(2000, 1, 1) # starting time: 1 january 2000\n",
    "end = dt.datetime(2020, 12, 31) # end time: 31 december 2020\n",
    "timeframe = (start, end)\n",
    "\n",
    "# getting the data from the World Bank Databank as a Pandas dataframe:\n",
    "wbdata = wb.get_dataframe(indicators=sdg_indic, country=wbAsia, date=timeframe, freq=\"Y\", source=46)\n",
    "wbdata"
   ]
  },
  {
   "cell_type": "markdown",
   "id": "a1222f53",
   "metadata": {},
   "source": [
    "#### World Inequality Database \n",
    "Let's import the relevant data from the World Inequality Database. Since there is no easy to use library to do this, we must do the following:\n",
    "1. Import data from web in order to have the latest data (by bulk downloading the data from [8], using ...\n",
    "2. Extract the data from the zip file and select the relevant documents based on the country codes from [9]\n",
    "3. <span style=\"color:red\"> Select correct codes for the income top 10% and bottom 50% based on [9] ... </span>\n",
    "\n",
    "\n",
    "The indicator we need from here is the P50/P10 ratio. (FIGURE OUT HOW TO GET THIS INDICATOR FROM THE DATA BASED ON [9])\n"
   ]
  },
  {
   "cell_type": "code",
   "execution_count": 32,
   "id": "b792bb54",
   "metadata": {},
   "outputs": [],
   "source": [
    "# creating list of countries per region in Asia, in order to correct data:\n",
    "\n",
    "# indicator names based on [9]:\n",
    "widCA = [\"KZ\", \"KG\", \"TJ\", \"TM\", \"UZ\"]\n",
    "widEA =[\"CN\", \"HK\", \"MO\", \"KP\", \"JP\", \"MN\", \"KR\"]\n",
    "widSEA =[\"BN\", \"KH\", \"ID\", \"LA\", \"MY\", \"MM\", \"PH\", \"SG\", \"TH\", \"TL\", \"VN\"]\n",
    "widSA = [\"AF\", \"BD\", \"BT\", \"IN\", \"IR\", \"MV\", \"NP\", \"PK\", \"LK\"]\n",
    "widWA = [\"AM\", \"AZ\", \"BH\", \"CY\", \"GE\", \"IQ\", \"IL\", \"JO\", \"KW\", \"LB\", \"OM\", \"QA\", \"SA\", \"PS\", \"SY\", \"TR\", \"AE\", \"YE\"]\n",
    "widAsia = sorted(widCA+widEA+widSEA+widSA+widWA)\n",
    "\n",
    "# getting the data ...\n",
    "\n",
    "# use urllibrequest or requests to get the zip file with the bulk data from https://wid.world/data/ \n",
    "# if that doesn't work, will have to manually download the data: \n",
    "## then you can just filter in the site and ignore the next steps\n",
    "# if downloading bulk unfiltered data:\n",
    "## filter the files to open based on the country codes in widAsia\n",
    "## filter the necessary data within the files based on this https://wid.world/codes-dictionary/#one-letter-code\n",
    "## apparently, use the \"r\" name or something? didn't fully understand this part in their explanations\n"
   ]
  },
  {
   "cell_type": "code",
   "execution_count": null,
   "id": "e2541206",
   "metadata": {},
   "outputs": [],
   "source": [
    "# now, merge both the wd and the wid data together into one pandas dataframe"
   ]
  },
  {
   "cell_type": "code",
   "execution_count": null,
   "id": "72ad3ae5",
   "metadata": {},
   "outputs": [],
   "source": [
    "# clean data / look for countries which only have NaN values? "
   ]
  },
  {
   "cell_type": "markdown",
   "id": "ef70f9ae",
   "metadata": {},
   "source": [
    "## Exploration\n",
    "<span style=\"color:blue\"> Assignment: Exploratory data analysis – get to know your data. </span> \n",
    "\n",
    "In this section, we will explore the data in order to provide some basic knowledge and get to know the data better.\n",
    "\n",
    "<span style=\"color:red\"> explain further after statistics have been made! </span>\n",
    "\n",
    "    "
   ]
  },
  {
   "cell_type": "raw",
   "id": "b49c5b91",
   "metadata": {},
   "source": [
    "# possible explorations: 5 most and 5 least inequal countries, 5 most and least undernourished countries, \n",
    "## countries with highest and lowest correlation between undernourishment and income inequality, etc\n",
    "## countries with highest and lowest correlation between\n",
    "# descriptive statistics of indicators: count, mean, standard deviation, minimum, 25%, 50%, 75%, maximum values\n",
    "\n",
    "\n",
    "# change in income inequality over time and undernourishment over time, graphed like the example below:\n",
    "https://www.oecd-ilibrary.org/docserver/d1a5a309-en.pdf?expires=1729798930&id=id&accname=guest&checksum=2BE6724985F17AA2C62792B11AED3E5E (bottom of page 2)"
   ]
  },
  {
   "cell_type": "code",
   "execution_count": 6,
   "id": "83880a25",
   "metadata": {},
   "outputs": [],
   "source": [
    "# exploring data ...\n",
    "\n"
   ]
  },
  {
   "cell_type": "code",
   "execution_count": null,
   "id": "b2147b7f",
   "metadata": {},
   "outputs": [],
   "source": []
  },
  {
   "cell_type": "markdown",
   "id": "3afcad75",
   "metadata": {},
   "source": [
    "## Visualization\n",
    "<span style=\"color:blue\"> Assignment: Use multiple types of visualization on the data that make sense for your goal. </span>\n",
    "\n",
    "In this section, we will visualize the data in order to provide insights. \n",
    "\n",
    "<span style=\"color:red\"> explain further after visualizations have been made! </span>\n",
    "\n"
   ]
  },
  {
   "cell_type": "code",
   "execution_count": null,
   "id": "429a992b",
   "metadata": {},
   "outputs": [],
   "source": [
    "# visualizing data ...\n"
   ]
  },
  {
   "cell_type": "markdown",
   "id": "7bf8c776",
   "metadata": {},
   "source": [
    "## Machine Learning\n",
    "<span style=\"color:blue\"> Assignment: Use at least one machine learning technique to make meaningful predictions over (part of) the data. </span>\n",
    "\n",
    "In order to predict how the income inequality and undernourishment will develop in Asian countries, we will first extrapolate the data from (1) the income inequality and (2) the undernourishment in Asian countries. This will provide an answer to research questions 1 and 2. \n",
    "<br />\n",
    "\n",
    "Afterwards, we will perform multiple regression analyses:\n",
    "1. A regression of undernourishment based on income inequality per Asian country\n",
    "2. A regression of undernourishment based on literacy rate per Asian country\n",
    "3. A regression of undernourishment based on education attainment per Asian country\n",
    "4. A regression of undernourishment based on geneder equality per Asian country\n",
    "\n",
    "Based on the results of these analyses, we'll be able to conclude what the relation is between economic and social inequality and undernourishment in Asian countries, and whether we can predict undernourishment based on economic and social inequality in Asian countries over the next 20 years."
   ]
  },
  {
   "cell_type": "markdown",
   "id": "95fa34d2",
   "metadata": {},
   "source": [
    "### Trends in inequality and undernourishment\n",
    "In the section below, data will be analysed and extrapolated in order to find trends for the period of 2000-2020 and extrapolate trends for the coming 20 years regarding income inequality and undernourishment in Asian countries."
   ]
  },
  {
   "cell_type": "code",
   "execution_count": 1,
   "id": "61de8f53",
   "metadata": {},
   "outputs": [],
   "source": [
    "# part 1: using ML to extrapolate the income inequality per Asian country\n"
   ]
  },
  {
   "cell_type": "code",
   "execution_count": 7,
   "id": "af7cf0d6",
   "metadata": {},
   "outputs": [],
   "source": [
    "# part 2: using ML to extrapolate the undernourishment per Asian country\n"
   ]
  },
  {
   "cell_type": "markdown",
   "id": "c7f08d2b",
   "metadata": {},
   "source": [
    "### Regression analyses \n",
    "In the section below, data will be analysed through a regression model in order to find the relation between undernourishment (dependent variable) and income inequality, literacy rate, education attainment and gender equality (independent variables)"
   ]
  },
  {
   "cell_type": "code",
   "execution_count": 3,
   "id": "8deeb54e",
   "metadata": {},
   "outputs": [],
   "source": [
    "# part 3: using ML to perform a regression analysis of the undernourishment based on the income inequality\n"
   ]
  },
  {
   "cell_type": "code",
   "execution_count": 4,
   "id": "29e767c4",
   "metadata": {},
   "outputs": [],
   "source": [
    "# part 4: using ML to perform a regression analysis of the undernourishment based on literacy rate\n"
   ]
  },
  {
   "cell_type": "code",
   "execution_count": 5,
   "id": "a836bcb4",
   "metadata": {},
   "outputs": [],
   "source": [
    "# part 5: using ML to perform a regression analysis of the undernourishment based on education attainment\n"
   ]
  },
  {
   "cell_type": "code",
   "execution_count": null,
   "id": "ac11310a",
   "metadata": {},
   "outputs": [],
   "source": [
    "# part 6: using ML to perform a regression analysis of the undernourishment based on gender equality \n",
    "## (Women Business and the Law index score)\n",
    "\n"
   ]
  },
  {
   "cell_type": "markdown",
   "id": "2e554c5b",
   "metadata": {},
   "source": [
    "## Discussion \n",
    "<span style=\"color:blue\"> Assignment: Interpret your results in relation to your research question. Were there any surprises in your research? How reliable do you think your results are? Are there any limitations to your analysis? </span>\n",
    "\n",
    "In this section, we will interpret the results in relation to the research question.\n",
    "\n",
    "<span style=\"color:red\"> answer the main research question by answering all the specific research questions separately! </span>\n",
    "\n",
    "<span style=\"color:red\"> surprises </span>\n",
    "\n",
    "<span style=\"color:red\"> reliability of results </span>\n",
    "\n",
    "<span style=\"color:red\"> limitations to analysis </span>\n",
    "- economic inequality only based on income and not wealth\n",
    "- gender equality only based on one index\n",
    "- regression only one way -> but undernourishment might also affect income inequality, so might be good to also research it the other way around\n"
   ]
  },
  {
   "cell_type": "markdown",
   "id": "921e6599",
   "metadata": {},
   "source": [
    "## Conclusion\n",
    "<span style=\"color:blue\"> Assignment: what did you learn? </span>\n",
    "\n",
    "<span style=\"color:red\"> It can be concluded that ... </span>"
   ]
  },
  {
   "cell_type": "markdown",
   "id": "3bb112a1",
   "metadata": {},
   "source": [
    "## References\n",
    "\n",
    "<br />\n",
    "[1] https://sdgs.un.org/goals/goal2#targets_and_indicators\n",
    "<br />\n",
    "[2] https://sdgs.un.org/goals/goal10#targets_and_indicators\n",
    "<br />\n",
    "[3] https://knowledge4policy.ec.europa.eu/publication/asia-pacific-regional-overview-food-security-nutrition-2023_en\n",
    "<br />\n",
    "[4] https://www.undp.org/sites/g/files/zskgke326/files/2022-02/UNDP-RBAP-Inequality-and-Social-Security-in-Asia-Pacific-2022.pdf \n",
    "<br />\n",
    "[5] https://unstats.un.org/unsd/methodology/m49/\n",
    "<br />\n",
    "[6] https://www.oecd-ilibrary.org/docserver/b00d8f0e-en.pdf?expires=1729799959&id=id&accname=guest&checksum=3C4FB7794FD18940FD027A385E749A2D\n",
    "<br />\n",
    "[7] https://databank.worldbank.org/reports.aspx?source=sustainable-development-goals-%28sdgs%29 \n",
    "<br />\n",
    "[8] https://wid.world/data/\n",
    "<br />\n",
    "[9] https://wid.world/codes-dictionary"
   ]
  }
 ],
 "metadata": {
  "kernelspec": {
   "display_name": "Python 3 (ipykernel)",
   "language": "python",
   "name": "python3"
  },
  "language_info": {
   "codemirror_mode": {
    "name": "ipython",
    "version": 3
   },
   "file_extension": ".py",
   "mimetype": "text/x-python",
   "name": "python",
   "nbconvert_exporter": "python",
   "pygments_lexer": "ipython3",
   "version": "3.10.9"
  }
 },
 "nbformat": 4,
 "nbformat_minor": 5
}
